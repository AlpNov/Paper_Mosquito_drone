{
 "metadata": {
  "name": ""
 },
 "nbformat": 3,
 "nbformat_minor": 0,
 "worksheets": [
  {
   "cells": [
    {
     "cell_type": "code",
     "collapsed": false,
     "input": [
      "NMEAfile = open('GPS.TXT');\n",
      "GPSoutfile = open('GPS_parsed.txt','w');\n",
      "for line in NMEAfile:\n",
      "    NMEAstring = NMEAfile.readline();\n",
      "    NMEAdata = NMEAstring.split(',');\n",
      "    #date,time,lat NS,long EW\\n\n",
      "    GPSoutfile.write('{0:.0f},{1:.2f},{2:.4f} {3},{4:.4f} {5}\\n'.\n",
      "                        format(float(NMEAdata[9]),float(NMEAdata[1]),\n",
      "                        float(NMEAdata[3]),NMEAdata[4],float(NMEAdata[5]),NMEAdata[6]));"
     ],
     "language": "python",
     "metadata": {},
     "outputs": [],
     "prompt_number": 27
    },
    {
     "cell_type": "code",
     "collapsed": false,
     "input": [],
     "language": "python",
     "metadata": {},
     "outputs": [
      {
       "output_type": "stream",
       "stream": "stdout",
       "text": [
        "2943.43\n"
       ]
      }
     ],
     "prompt_number": 20
    },
    {
     "cell_type": "code",
     "collapsed": false,
     "input": [],
     "language": "python",
     "metadata": {},
     "outputs": []
    }
   ],
   "metadata": {}
  }
 ]
}